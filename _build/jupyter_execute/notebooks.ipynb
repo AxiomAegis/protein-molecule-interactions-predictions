{
 "cells": [
  {
   "cell_type": "markdown",
   "id": "eca9acb0",
   "metadata": {
    "deletable": true,
    "editable": true,
    "frozen": false
   },
   "source": [
    "# Code running tutorial"
   ]
  },
  {
   "cell_type": "markdown",
   "id": "5c900af1",
   "metadata": {
    "deletable": true,
    "editable": true,
    "frozen": false
   },
   "source": [
    "## Environment building"
   ]
  },
  {
   "cell_type": "markdown",
   "id": "a02aa281",
   "metadata": {
    "deletable": true,
    "editable": true,
    "frozen": false
   },
   "source": [
    "### Build the runtime environment code"
   ]
  },
  {
   "cell_type": "markdown",
   "id": "ff159136",
   "metadata": {
    "deletable": true,
    "editable": true,
    "frozen": false
   },
   "source": [
    "```bash\n",
    "mamba env create -f env.yaml\n",
    "```"
   ]
  },
  {
   "cell_type": "markdown",
   "id": "0a4f5d23",
   "metadata": {
    "deletable": true,
    "editable": true,
    "frozen": false
   },
   "source": [
    "### Large model training weights download code"
   ]
  },
  {
   "cell_type": "markdown",
   "id": "5aec7f1f",
   "metadata": {
    "deletable": true,
    "editable": true,
    "frozen": false
   },
   "source": [
    "```bash\n",
    "huggingface-cli download --resume-download DeepChem/ChemBERTa-77M-MTR --local-dir code/preprocessing/DeepChem/ChemBERTa-77M-MTR \n",
    "\n",
    "```"
   ]
  },
  {
   "cell_type": "markdown",
   "id": "be7c8c08",
   "metadata": {
    "deletable": true,
    "editable": true,
    "frozen": false
   },
   "source": [
    "## Training process"
   ]
  },
  {
   "cell_type": "markdown",
   "id": "f753e447",
   "metadata": {
    "deletable": true,
    "editable": true,
    "frozen": false,
    "jp-MarkdownHeadingCollapsed": true
   },
   "source": [
    "```{important}\n",
    "Ensure that all samples to be tested have been pre-processed here and the embedding information has been extracted\n",
    "```"
   ]
  },
  {
   "cell_type": "markdown",
   "id": "ae7a367e",
   "metadata": {
    "deletable": true,
    "editable": true,
    "frozen": false
   },
   "source": [
    "### Preprocessing: Extracting embedding information"
   ]
  },
  {
   "cell_type": "markdown",
   "id": "d01c0d4d",
   "metadata": {
    "deletable": true,
    "editable": true,
    "frozen": false
   },
   "source": [
    "```python\n",
    "python code/preprocessing/preprocessing.py --train_val_path data/training_data/ESP/train_val_yb \\\n",
    "                                                               --outpath data/training_data/ESP/embeddings \\\n",
    "                                                               --smiles_emb_no 2000 --prot_emb_no 2000\n",
    "```"
   ]
  },
  {
   "cell_type": "markdown",
   "id": "c46dabfc",
   "metadata": {
    "deletable": true,
    "editable": true,
    "frozen": false
   },
   "source": [
    "### Train a large model"
   ]
  },
  {
   "cell_type": "markdown",
   "id": "fef91762",
   "metadata": {
    "deletable": true,
    "editable": true,
    "frozen": false
   },
   "source": [
    "```python\n",
    "CUDA_VISIBLE_DEVICES=1 python code/training/training.py --train_dir data/training_data/ESP/train_val_yb/BAHD_ESP_train_df.csv \\\n",
    "                                --val_dir data/training_data/ESP/train_val_yb/BAHD_ESP_val_df.csv \\\n",
    "                                --embed_path data/training_data/ESP/embeddings \\\n",
    "                                --save_model_path data/training_data/ESP/saved_model \\\n",
    "                                --pretrained_model data/training_data/BindingDB/saved_model/pretraining_IC50_6gpus_bs144_1.5e-05_layers6.txt.pkl \\\n",
    "                                --learning_rate 1e-5  --num_hidden_layers 6 --batch_size 24 --binary_task True \\\n",
    "                                --log_name ESP --num_train_epochs 100 --port 12558\n",
    "```"
   ]
  },
  {
   "cell_type": "markdown",
   "id": "abc67c52",
   "metadata": {
    "deletable": true,
    "editable": true,
    "frozen": false
   },
   "source": [
    "### Train a gradient boosting tree"
   ]
  },
  {
   "cell_type": "markdown",
   "id": "9554ccc0",
   "metadata": {
    "deletable": true,
    "editable": true,
    "frozen": false
   },
   "source": [
    "```python\n",
    "CUDA_VISIBLE_DEVICES=1 python code/training/training_GB.py --train_dir data/training_data/ESP/train_val_yb/BAHD_ESP_train_df.csv \\\n",
    "                                --val_dir data/training_data/ESP/train_val_yb/BAHD_ESP_val_df.csv \\\n",
    "                                --test_dir data/training_data/ESP/train_val_yb/T1_ESP_test_df.csv \\\n",
    "                                --pretrained_model data/training_data/ESP/saved_model/ESP_2gpus_bs48_1e-05_layers6.txt.pkl \\\n",
    "                                --embed_path data/training_data/ESP/embeddings \\\n",
    "                                --save_xgb_path data/training_data/ESP/saved_model/xgb \\\n",
    "                                --save_pred_path data/training_data/ESP/saved_predictions \\\n",
    "                                --num_hidden_layers 6 --num_iter 500 --log_name ESP --binary_task True\t\t\n",
    "```"
   ]
  },
  {
   "cell_type": "markdown",
   "id": "bbad22b0",
   "metadata": {
    "deletable": true,
    "editable": true,
    "frozen": false
   },
   "source": [
    "## Independent test code"
   ]
  },
  {
   "cell_type": "markdown",
   "id": "b493d0a7",
   "metadata": {
    "deletable": true,
    "editable": true,
    "frozen": false,
    "jp-MarkdownHeadingCollapsed": true
   },
   "source": [
    "```{important}\n",
    "Ensure that all samples to be tested have been pre-processed here and the embedding information has been extracted\n",
    "```"
   ]
  },
  {
   "cell_type": "markdown",
   "id": "5b104d32",
   "metadata": {
    "deletable": true,
    "editable": true,
    "frozen": false
   },
   "source": [
    "```python\n",
    "CUDA_VISIBLE_DEVICES=1 python code/training/prediction.py \\\n",
    "    --test_dir data/prediction_data/T1_ESP_test_df.csv \\\n",
    "    --pretrained_model data/training_data/ESP/saved_model/ESP_2gpus_bs48_1e-05_layers6.txt.pkl \\\n",
    "    --embed_path data/training_data/ESP/embeddings \\\n",
    "    --xgb_path data/training_data/ESP/saved_model/xgb \\\n",
    "    --save_pred_path data/training_data/ESP/saved_predictions_yb \\\n",
    "    --num_hidden_layers 6 \\\n",
    "    --num_iter 500 \\\n",
    "    --log_name ESP \\\n",
    "    --binary_task True\t\n",
    "```"
   ]
  }
 ],
 "metadata": {
  "jupytext": {
   "text_representation": {
    "extension": ".md",
    "format_name": "myst",
    "format_version": 0.13,
    "jupytext_version": "1.16.4"
   }
  },
  "kernelspec": {
   "display_name": "Python [conda env:ProSmi]",
   "language": "python",
   "name": "python3"
  },
  "language_info": {
   "codemirror_mode": {
    "name": "ipython",
    "version": 3
   },
   "file_extension": ".py",
   "mimetype": "text/x-python",
   "name": "python",
   "nbconvert_exporter": "python",
   "pygments_lexer": "ipython3",
   "version": "3.12.7"
  },
  "source_map": [
   14,
   18,
   22,
   26,
   32,
   36,
   43,
   47,
   53,
   57,
   65,
   69,
   81,
   85,
   98,
   102,
   108
  ]
 },
 "nbformat": 4,
 "nbformat_minor": 5
}